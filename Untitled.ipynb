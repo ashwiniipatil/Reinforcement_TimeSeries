{
 "cells": [
  {
   "cell_type": "code",
   "execution_count": 1,
   "id": "65e073a9",
   "metadata": {},
   "outputs": [
    {
     "name": "stdout",
     "output_type": "stream",
     "text": [
      "Collecting pmdarima\n",
      "  Obtaining dependency information for pmdarima from https://files.pythonhosted.org/packages/ac/f8/6c9364602b13f0dba129b53acd1344859690911a4d5021560d9fd6aa087f/pmdarima-2.0.4-cp311-cp311-win_amd64.whl.metadata\n",
      "  Downloading pmdarima-2.0.4-cp311-cp311-win_amd64.whl.metadata (8.0 kB)\n",
      "Requirement already satisfied: joblib>=0.11 in c:\\users\\omkar\\anaconda3\\lib\\site-packages (from pmdarima) (1.2.0)\n",
      "Collecting Cython!=0.29.18,!=0.29.31,>=0.29 (from pmdarima)\n",
      "  Obtaining dependency information for Cython!=0.29.18,!=0.29.31,>=0.29 from https://files.pythonhosted.org/packages/61/d3/68990f655b015afa9c10e8e0b88e6efc900d8f6f852322d33d20601e22d2/Cython-3.0.6-cp311-cp311-win_amd64.whl.metadata\n",
      "  Downloading Cython-3.0.6-cp311-cp311-win_amd64.whl.metadata (3.2 kB)\n",
      "Requirement already satisfied: numpy>=1.21.2 in c:\\users\\omkar\\anaconda3\\lib\\site-packages (from pmdarima) (1.24.3)\n",
      "Requirement already satisfied: pandas>=0.19 in c:\\users\\omkar\\anaconda3\\lib\\site-packages (from pmdarima) (2.0.3)\n",
      "Requirement already satisfied: scikit-learn>=0.22 in c:\\users\\omkar\\anaconda3\\lib\\site-packages (from pmdarima) (1.3.0)\n",
      "Requirement already satisfied: scipy>=1.3.2 in c:\\users\\omkar\\anaconda3\\lib\\site-packages (from pmdarima) (1.11.1)\n",
      "Requirement already satisfied: statsmodels>=0.13.2 in c:\\users\\omkar\\anaconda3\\lib\\site-packages (from pmdarima) (0.14.0)\n",
      "Requirement already satisfied: urllib3 in c:\\users\\omkar\\anaconda3\\lib\\site-packages (from pmdarima) (1.26.16)\n",
      "Requirement already satisfied: setuptools!=50.0.0,>=38.6.0 in c:\\users\\omkar\\anaconda3\\lib\\site-packages (from pmdarima) (68.0.0)\n",
      "Requirement already satisfied: packaging>=17.1 in c:\\users\\omkar\\anaconda3\\lib\\site-packages (from pmdarima) (23.1)\n",
      "Requirement already satisfied: python-dateutil>=2.8.2 in c:\\users\\omkar\\anaconda3\\lib\\site-packages (from pandas>=0.19->pmdarima) (2.8.2)\n",
      "Requirement already satisfied: pytz>=2020.1 in c:\\users\\omkar\\anaconda3\\lib\\site-packages (from pandas>=0.19->pmdarima) (2023.3.post1)\n",
      "Requirement already satisfied: tzdata>=2022.1 in c:\\users\\omkar\\anaconda3\\lib\\site-packages (from pandas>=0.19->pmdarima) (2023.3)\n",
      "Requirement already satisfied: threadpoolctl>=2.0.0 in c:\\users\\omkar\\anaconda3\\lib\\site-packages (from scikit-learn>=0.22->pmdarima) (2.2.0)\n",
      "Requirement already satisfied: patsy>=0.5.2 in c:\\users\\omkar\\anaconda3\\lib\\site-packages (from statsmodels>=0.13.2->pmdarima) (0.5.3)\n",
      "Requirement already satisfied: six in c:\\users\\omkar\\anaconda3\\lib\\site-packages (from patsy>=0.5.2->statsmodels>=0.13.2->pmdarima) (1.16.0)\n",
      "Downloading pmdarima-2.0.4-cp311-cp311-win_amd64.whl (614 kB)\n",
      "   ---------------------------------------- 0.0/614.7 kB ? eta -:--:--\n",
      "   ---------------------------------------- 0.0/614.7 kB ? eta -:--:--\n",
      "    --------------------------------------- 10.2/614.7 kB ? eta -:--:--\n",
      "   -- ------------------------------------ 41.0/614.7 kB 487.6 kB/s eta 0:00:02\n",
      "   ------ ------------------------------- 112.6/614.7 kB 930.9 kB/s eta 0:00:01\n",
      "   ----------------- ---------------------- 266.2/614.7 kB 1.6 MB/s eta 0:00:01\n",
      "   ------------------------------- -------- 481.3/614.7 kB 2.3 MB/s eta 0:00:01\n",
      "   ---------------------------------------  614.4/614.7 kB 2.6 MB/s eta 0:00:01\n",
      "   ---------------------------------------  614.4/614.7 kB 2.6 MB/s eta 0:00:01\n",
      "   ---------------------------------------  614.4/614.7 kB 2.6 MB/s eta 0:00:01\n",
      "   ---------------------------------------- 614.7/614.7 kB 1.8 MB/s eta 0:00:00\n",
      "Downloading Cython-3.0.6-cp311-cp311-win_amd64.whl (2.8 MB)\n",
      "   ---------------------------------------- 0.0/2.8 MB ? eta -:--:--\n",
      "   ----- ---------------------------------- 0.4/2.8 MB 11.6 MB/s eta 0:00:01\n",
      "   ----------- ---------------------------- 0.8/2.8 MB 10.1 MB/s eta 0:00:01\n",
      "   --------------- ------------------------ 1.1/2.8 MB 7.8 MB/s eta 0:00:01\n",
      "   --------------------- ------------------ 1.5/2.8 MB 8.6 MB/s eta 0:00:01\n",
      "   ----------------------- ---------------- 1.6/2.8 MB 7.9 MB/s eta 0:00:01\n",
      "   ---------------------------- ----------- 2.0/2.8 MB 7.3 MB/s eta 0:00:01\n",
      "   -------------------------------- ------- 2.3/2.8 MB 7.3 MB/s eta 0:00:01\n",
      "   ------------------------------------- -- 2.6/2.8 MB 7.2 MB/s eta 0:00:01\n",
      "   ---------------------------------------  2.8/2.8 MB 7.1 MB/s eta 0:00:01\n",
      "   ---------------------------------------  2.8/2.8 MB 7.1 MB/s eta 0:00:01\n",
      "   ---------------------------------------  2.8/2.8 MB 7.1 MB/s eta 0:00:01\n",
      "   ---------------------------------------  2.8/2.8 MB 7.1 MB/s eta 0:00:01\n",
      "   ---------------------------------------- 2.8/2.8 MB 4.7 MB/s eta 0:00:00\n",
      "Installing collected packages: Cython, pmdarima\n",
      "Successfully installed Cython-3.0.6 pmdarima-2.0.4\n"
     ]
    },
    {
     "name": "stderr",
     "output_type": "stream",
     "text": [
      "ERROR: pip's dependency resolver does not currently take into account all the packages that are installed. This behaviour is the source of the following dependency conflicts.\n",
      "tables 3.8.0 requires blosc2~=2.0.0, which is not installed.\n"
     ]
    }
   ],
   "source": [
    "! pip install pmdarima"
   ]
  },
  {
   "cell_type": "code",
   "execution_count": null,
   "id": "67e71a73",
   "metadata": {},
   "outputs": [],
   "source": [
    "import pmdarima as pm"
   ]
  },
  {
   "cell_type": "code",
   "execution_count": null,
   "id": "2738d504",
   "metadata": {},
   "outputs": [],
   "source": []
  },
  {
   "cell_type": "code",
   "execution_count": null,
   "id": "522b2775",
   "metadata": {},
   "outputs": [],
   "source": []
  },
  {
   "cell_type": "code",
   "execution_count": null,
   "id": "58583e42",
   "metadata": {},
   "outputs": [],
   "source": []
  },
  {
   "cell_type": "code",
   "execution_count": null,
   "id": "68567cd8",
   "metadata": {},
   "outputs": [],
   "source": []
  }
 ],
 "metadata": {
  "kernelspec": {
   "display_name": "Python 3 (ipykernel)",
   "language": "python",
   "name": "python3"
  },
  "language_info": {
   "codemirror_mode": {
    "name": "ipython",
    "version": 3
   },
   "file_extension": ".py",
   "mimetype": "text/x-python",
   "name": "python",
   "nbconvert_exporter": "python",
   "pygments_lexer": "ipython3",
   "version": "3.11.5"
  }
 },
 "nbformat": 4,
 "nbformat_minor": 5
}
